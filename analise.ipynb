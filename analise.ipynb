{
 "cells": [
  {
   "cell_type": "code",
   "execution_count": 1,
   "metadata": {},
   "outputs": [],
   "source": [
    "import pandas as pd\n",
    "import numpy as np"
   ]
  },
  {
   "cell_type": "code",
   "execution_count": 7,
   "metadata": {},
   "outputs": [],
   "source": [
    "df = pd.read_csv(\"/Users/guilhermezuccolottosoriano/Documents/Dados/Particular/LocaisComDescritvo.csv\")"
   ]
  },
  {
   "cell_type": "code",
   "execution_count": 8,
   "metadata": {},
   "outputs": [
    {
     "data": {
      "text/html": [
       "<div>\n",
       "<style scoped>\n",
       "    .dataframe tbody tr th:only-of-type {\n",
       "        vertical-align: middle;\n",
       "    }\n",
       "\n",
       "    .dataframe tbody tr th {\n",
       "        vertical-align: top;\n",
       "    }\n",
       "\n",
       "    .dataframe thead th {\n",
       "        text-align: right;\n",
       "    }\n",
       "</style>\n",
       "<table border=\"1\" class=\"dataframe\">\n",
       "  <thead>\n",
       "    <tr style=\"text-align: right;\">\n",
       "      <th></th>\n",
       "      <th>Unnamed: 0.1</th>\n",
       "      <th>Unnamed: 0</th>\n",
       "      <th>Título</th>\n",
       "      <th>Nota</th>\n",
       "      <th>URL</th>\n",
       "      <th>Comentar</th>\n",
       "      <th>id</th>\n",
       "      <th>name</th>\n",
       "      <th>types</th>\n",
       "      <th>formatted_address</th>\n",
       "      <th>opening_hours</th>\n",
       "      <th>rating</th>\n",
       "      <th>website</th>\n",
       "      <th>user_ratings_total</th>\n",
       "      <th>price_level</th>\n",
       "      <th>address_components</th>\n",
       "      <th>reviews</th>\n",
       "      <th>pais</th>\n",
       "      <th>bairro</th>\n",
       "      <th>estabelecimento</th>\n",
       "    </tr>\n",
       "  </thead>\n",
       "  <tbody>\n",
       "    <tr>\n",
       "      <th>0</th>\n",
       "      <td>0</td>\n",
       "      <td>0</td>\n",
       "      <td>Restaurante Cepa</td>\n",
       "      <td>NaN</td>\n",
       "      <td>https://www.google.com/maps/place/Restaurante+...</td>\n",
       "      <td>NaN</td>\n",
       "      <td>ChIJ8zTHnSpfzpQR0BJjy4zmMkM</td>\n",
       "      <td>Restaurante Cepa</td>\n",
       "      <td>['restaurant', 'food', 'point_of_interest', 'e...</td>\n",
       "      <td>Praça dos Omaguás, 110 - Pinheiros, São Paulo ...</td>\n",
       "      <td>['Monday: Closed', 'Tuesday: Closed', 'Wednesd...</td>\n",
       "      <td>4.4</td>\n",
       "      <td>NaN</td>\n",
       "      <td>446.0</td>\n",
       "      <td>NaN</td>\n",
       "      <td>[{'long_name': '110', 'short_name': '110', 'ty...</td>\n",
       "      <td>[{'author_name': 'Andrés Suárez', 'author_url'...</td>\n",
       "      <td>brazil</td>\n",
       "      <td>pinheiros</td>\n",
       "      <td>restaurant</td>\n",
       "    </tr>\n",
       "    <tr>\n",
       "      <th>1</th>\n",
       "      <td>1</td>\n",
       "      <td>1</td>\n",
       "      <td>Lobozó Restaurante</td>\n",
       "      <td>NaN</td>\n",
       "      <td>https://www.google.com/maps/place/Loboz%C3%B3+...</td>\n",
       "      <td>NaN</td>\n",
       "      <td>ChIJF2U6OhtXzpQRecs2uAKRLVA</td>\n",
       "      <td>Lobozó Restaurante</td>\n",
       "      <td>['restaurant', 'food', 'point_of_interest', 'e...</td>\n",
       "      <td>R. Medeiros de Albuquerque, 436 - Vila Madalen...</td>\n",
       "      <td>['Monday: 12:00\\u2009–\\u20094:30\\u202fPM', 'Tu...</td>\n",
       "      <td>4.4</td>\n",
       "      <td>http://www.lobozo.com.br/</td>\n",
       "      <td>530.0</td>\n",
       "      <td>2.0</td>\n",
       "      <td>[{'long_name': '436', 'short_name': '436', 'ty...</td>\n",
       "      <td>[{'author_name': 'Fifo', 'author_url': 'https:...</td>\n",
       "      <td>brazil</td>\n",
       "      <td>vila madalena</td>\n",
       "      <td>restaurant</td>\n",
       "    </tr>\n",
       "    <tr>\n",
       "      <th>2</th>\n",
       "      <td>2</td>\n",
       "      <td>2</td>\n",
       "      <td>Plou Vinhos</td>\n",
       "      <td>NaN</td>\n",
       "      <td>https://www.google.com/maps/place/Plou+Vinhos/...</td>\n",
       "      <td>NaN</td>\n",
       "      <td>ChIJLfzNJQBXzpQRUBfTSw6zjkc</td>\n",
       "      <td>Plou Vinhos</td>\n",
       "      <td>['bar', 'point_of_interest', 'establishment']</td>\n",
       "      <td>R. Original, 141 - Sumarezinho, São Paulo - SP...</td>\n",
       "      <td>['Monday: Closed', 'Tuesday: 10:00\\u202fAM\\u20...</td>\n",
       "      <td>4.6</td>\n",
       "      <td>https://www.instagram.com/plou.vinhos</td>\n",
       "      <td>13.0</td>\n",
       "      <td>NaN</td>\n",
       "      <td>[{'long_name': '141', 'short_name': '141', 'ty...</td>\n",
       "      <td>[{'author_name': 'Rodolfo Arouca', 'author_url...</td>\n",
       "      <td>brazil</td>\n",
       "      <td>sumarezinho</td>\n",
       "      <td>bar</td>\n",
       "    </tr>\n",
       "    <tr>\n",
       "      <th>3</th>\n",
       "      <td>3</td>\n",
       "      <td>3</td>\n",
       "      <td>La Boutique del Tartufo</td>\n",
       "      <td>NaN</td>\n",
       "      <td>https://www.google.com/maps/place/La+Boutique+...</td>\n",
       "      <td>NaN</td>\n",
       "      <td>ChIJv94iow_HhkcRmH3x31zePbQ</td>\n",
       "      <td>La Boutique del Tartufo</td>\n",
       "      <td>['store', 'point_of_interest', 'establishment']</td>\n",
       "      <td>Via Lazzaro Spallanzani, 18, 20124 Milano MI, ...</td>\n",
       "      <td>['Monday: 10:00\\u202fAM\\u2009–\\u20092:00\\u202f...</td>\n",
       "      <td>4.9</td>\n",
       "      <td>http://laboutiquedeltartufo.it/</td>\n",
       "      <td>118.0</td>\n",
       "      <td>NaN</td>\n",
       "      <td>[{'long_name': '18', 'short_name': '18', 'type...</td>\n",
       "      <td>[{'author_name': 'Lea Hoong', 'author_url': 'h...</td>\n",
       "      <td>italy</td>\n",
       "      <td>20124 Milano MI</td>\n",
       "      <td>store</td>\n",
       "    </tr>\n",
       "    <tr>\n",
       "      <th>4</th>\n",
       "      <td>4</td>\n",
       "      <td>4</td>\n",
       "      <td>Salsamenteria di Parma</td>\n",
       "      <td>NaN</td>\n",
       "      <td>https://www.google.com/maps/place/Salsamenteri...</td>\n",
       "      <td>NaN</td>\n",
       "      <td>ChIJA2kq5a_GhkcRe1UdJSlXgtI</td>\n",
       "      <td>Salsamenteria di Parma San Babila</td>\n",
       "      <td>['restaurant', 'food', 'point_of_interest', 'e...</td>\n",
       "      <td>Via S. Pietro All'Orto, 9, 20121 Milano MI, Italy</td>\n",
       "      <td>['Monday: 12:00\\u2009–\\u200911:00\\u202fPM', 'T...</td>\n",
       "      <td>4.3</td>\n",
       "      <td>https://www.salsamenteriadiparma.com/ristorant...</td>\n",
       "      <td>2664.0</td>\n",
       "      <td>2.0</td>\n",
       "      <td>[{'long_name': '9', 'short_name': '9', 'types'...</td>\n",
       "      <td>[{'author_name': 'Brianna Dueck', 'author_url'...</td>\n",
       "      <td>italy</td>\n",
       "      <td>20121 Milano MI</td>\n",
       "      <td>restaurant</td>\n",
       "    </tr>\n",
       "  </tbody>\n",
       "</table>\n",
       "</div>"
      ],
      "text/plain": [
       "   Unnamed: 0.1  Unnamed: 0                   Título  Nota  \\\n",
       "0             0           0         Restaurante Cepa   NaN   \n",
       "1             1           1       Lobozó Restaurante   NaN   \n",
       "2             2           2              Plou Vinhos   NaN   \n",
       "3             3           3  La Boutique del Tartufo   NaN   \n",
       "4             4           4   Salsamenteria di Parma   NaN   \n",
       "\n",
       "                                                 URL  Comentar  \\\n",
       "0  https://www.google.com/maps/place/Restaurante+...       NaN   \n",
       "1  https://www.google.com/maps/place/Loboz%C3%B3+...       NaN   \n",
       "2  https://www.google.com/maps/place/Plou+Vinhos/...       NaN   \n",
       "3  https://www.google.com/maps/place/La+Boutique+...       NaN   \n",
       "4  https://www.google.com/maps/place/Salsamenteri...       NaN   \n",
       "\n",
       "                            id                               name  \\\n",
       "0  ChIJ8zTHnSpfzpQR0BJjy4zmMkM                   Restaurante Cepa   \n",
       "1  ChIJF2U6OhtXzpQRecs2uAKRLVA                 Lobozó Restaurante   \n",
       "2  ChIJLfzNJQBXzpQRUBfTSw6zjkc                        Plou Vinhos   \n",
       "3  ChIJv94iow_HhkcRmH3x31zePbQ            La Boutique del Tartufo   \n",
       "4  ChIJA2kq5a_GhkcRe1UdJSlXgtI  Salsamenteria di Parma San Babila   \n",
       "\n",
       "                                               types  \\\n",
       "0  ['restaurant', 'food', 'point_of_interest', 'e...   \n",
       "1  ['restaurant', 'food', 'point_of_interest', 'e...   \n",
       "2      ['bar', 'point_of_interest', 'establishment']   \n",
       "3    ['store', 'point_of_interest', 'establishment']   \n",
       "4  ['restaurant', 'food', 'point_of_interest', 'e...   \n",
       "\n",
       "                                   formatted_address  \\\n",
       "0  Praça dos Omaguás, 110 - Pinheiros, São Paulo ...   \n",
       "1  R. Medeiros de Albuquerque, 436 - Vila Madalen...   \n",
       "2  R. Original, 141 - Sumarezinho, São Paulo - SP...   \n",
       "3  Via Lazzaro Spallanzani, 18, 20124 Milano MI, ...   \n",
       "4  Via S. Pietro All'Orto, 9, 20121 Milano MI, Italy   \n",
       "\n",
       "                                       opening_hours  rating  \\\n",
       "0  ['Monday: Closed', 'Tuesday: Closed', 'Wednesd...     4.4   \n",
       "1  ['Monday: 12:00\\u2009–\\u20094:30\\u202fPM', 'Tu...     4.4   \n",
       "2  ['Monday: Closed', 'Tuesday: 10:00\\u202fAM\\u20...     4.6   \n",
       "3  ['Monday: 10:00\\u202fAM\\u2009–\\u20092:00\\u202f...     4.9   \n",
       "4  ['Monday: 12:00\\u2009–\\u200911:00\\u202fPM', 'T...     4.3   \n",
       "\n",
       "                                             website  user_ratings_total  \\\n",
       "0                                                NaN               446.0   \n",
       "1                          http://www.lobozo.com.br/               530.0   \n",
       "2              https://www.instagram.com/plou.vinhos                13.0   \n",
       "3                    http://laboutiquedeltartufo.it/               118.0   \n",
       "4  https://www.salsamenteriadiparma.com/ristorant...              2664.0   \n",
       "\n",
       "   price_level                                 address_components  \\\n",
       "0          NaN  [{'long_name': '110', 'short_name': '110', 'ty...   \n",
       "1          2.0  [{'long_name': '436', 'short_name': '436', 'ty...   \n",
       "2          NaN  [{'long_name': '141', 'short_name': '141', 'ty...   \n",
       "3          NaN  [{'long_name': '18', 'short_name': '18', 'type...   \n",
       "4          2.0  [{'long_name': '9', 'short_name': '9', 'types'...   \n",
       "\n",
       "                                             reviews    pais  \\\n",
       "0  [{'author_name': 'Andrés Suárez', 'author_url'...  brazil   \n",
       "1  [{'author_name': 'Fifo', 'author_url': 'https:...  brazil   \n",
       "2  [{'author_name': 'Rodolfo Arouca', 'author_url...  brazil   \n",
       "3  [{'author_name': 'Lea Hoong', 'author_url': 'h...   italy   \n",
       "4  [{'author_name': 'Brianna Dueck', 'author_url'...   italy   \n",
       "\n",
       "             bairro estabelecimento  \n",
       "0         pinheiros      restaurant  \n",
       "1     vila madalena      restaurant  \n",
       "2       sumarezinho             bar  \n",
       "3   20124 Milano MI           store  \n",
       "4   20121 Milano MI      restaurant  "
      ]
     },
     "execution_count": 8,
     "metadata": {},
     "output_type": "execute_result"
    }
   ],
   "source": [
    "df.head()"
   ]
  },
  {
   "cell_type": "code",
   "execution_count": 13,
   "metadata": {},
   "outputs": [],
   "source": [
    "infos = df[[\"Título\",\"types\"]]"
   ]
  },
  {
   "cell_type": "code",
   "execution_count": 14,
   "metadata": {},
   "outputs": [],
   "source": [
    "infos.to_csv(\"LocaisTipados.csv\")"
   ]
  },
  {
   "cell_type": "code",
   "execution_count": 15,
   "metadata": {},
   "outputs": [],
   "source": [
    "df_classifica = pd.read_excel(\"/Users/guilhermezuccolottosoriano/Documents/Dados/Particular/ClassificaCozinha.xlsx\")"
   ]
  },
  {
   "cell_type": "code",
   "execution_count": 16,
   "metadata": {},
   "outputs": [
    {
     "data": {
      "text/html": [
       "<div>\n",
       "<style scoped>\n",
       "    .dataframe tbody tr th:only-of-type {\n",
       "        vertical-align: middle;\n",
       "    }\n",
       "\n",
       "    .dataframe tbody tr th {\n",
       "        vertical-align: top;\n",
       "    }\n",
       "\n",
       "    .dataframe thead th {\n",
       "        text-align: right;\n",
       "    }\n",
       "</style>\n",
       "<table border=\"1\" class=\"dataframe\">\n",
       "  <thead>\n",
       "    <tr style=\"text-align: right;\">\n",
       "      <th></th>\n",
       "      <th>name</th>\n",
       "      <th>comida</th>\n",
       "    </tr>\n",
       "  </thead>\n",
       "  <tbody>\n",
       "    <tr>\n",
       "      <th>0</th>\n",
       "      <td>Restaurante Cepa</td>\n",
       "      <td>Cozinha de Mercado, Caseira</td>\n",
       "    </tr>\n",
       "    <tr>\n",
       "      <th>1</th>\n",
       "      <td>Lobozó Restaurante</td>\n",
       "      <td>Cozinha Caipira da Paulistânia</td>\n",
       "    </tr>\n",
       "    <tr>\n",
       "      <th>2</th>\n",
       "      <td>Plou Vinhos</td>\n",
       "      <td>Bar de Vinhos, Petiscos</td>\n",
       "    </tr>\n",
       "    <tr>\n",
       "      <th>3</th>\n",
       "      <td>La Boutique del Tartufo</td>\n",
       "      <td>Italiana, Especializada em Trufas</td>\n",
       "    </tr>\n",
       "    <tr>\n",
       "      <th>4</th>\n",
       "      <td>Salsamenteria di Parma</td>\n",
       "      <td>Italiana, Charcutaria Tradicional</td>\n",
       "    </tr>\n",
       "  </tbody>\n",
       "</table>\n",
       "</div>"
      ],
      "text/plain": [
       "                      name                             comida\n",
       "0         Restaurante Cepa        Cozinha de Mercado, Caseira\n",
       "1       Lobozó Restaurante     Cozinha Caipira da Paulistânia\n",
       "2              Plou Vinhos            Bar de Vinhos, Petiscos\n",
       "3  La Boutique del Tartufo  Italiana, Especializada em Trufas\n",
       "4   Salsamenteria di Parma  Italiana, Charcutaria Tradicional"
      ]
     },
     "execution_count": 16,
     "metadata": {},
     "output_type": "execute_result"
    }
   ],
   "source": [
    "df_classifica.head()"
   ]
  },
  {
   "cell_type": "code",
   "execution_count": 18,
   "metadata": {},
   "outputs": [],
   "source": [
    "df_completo = df.merge(df_classifica, on='name')"
   ]
  },
  {
   "cell_type": "code",
   "execution_count": 20,
   "metadata": {},
   "outputs": [
    {
     "data": {
      "text/html": [
       "<div>\n",
       "<style scoped>\n",
       "    .dataframe tbody tr th:only-of-type {\n",
       "        vertical-align: middle;\n",
       "    }\n",
       "\n",
       "    .dataframe tbody tr th {\n",
       "        vertical-align: top;\n",
       "    }\n",
       "\n",
       "    .dataframe thead th {\n",
       "        text-align: right;\n",
       "    }\n",
       "</style>\n",
       "<table border=\"1\" class=\"dataframe\">\n",
       "  <thead>\n",
       "    <tr style=\"text-align: right;\">\n",
       "      <th></th>\n",
       "      <th>Unnamed: 0.1</th>\n",
       "      <th>Unnamed: 0</th>\n",
       "      <th>Título</th>\n",
       "      <th>Nota</th>\n",
       "      <th>URL</th>\n",
       "      <th>Comentar</th>\n",
       "      <th>id</th>\n",
       "      <th>name</th>\n",
       "      <th>types</th>\n",
       "      <th>formatted_address</th>\n",
       "      <th>...</th>\n",
       "      <th>rating</th>\n",
       "      <th>website</th>\n",
       "      <th>user_ratings_total</th>\n",
       "      <th>price_level</th>\n",
       "      <th>address_components</th>\n",
       "      <th>reviews</th>\n",
       "      <th>pais</th>\n",
       "      <th>bairro</th>\n",
       "      <th>estabelecimento</th>\n",
       "      <th>comida</th>\n",
       "    </tr>\n",
       "  </thead>\n",
       "  <tbody>\n",
       "    <tr>\n",
       "      <th>0</th>\n",
       "      <td>0</td>\n",
       "      <td>0</td>\n",
       "      <td>Restaurante Cepa</td>\n",
       "      <td>NaN</td>\n",
       "      <td>https://www.google.com/maps/place/Restaurante+...</td>\n",
       "      <td>NaN</td>\n",
       "      <td>ChIJ8zTHnSpfzpQR0BJjy4zmMkM</td>\n",
       "      <td>Restaurante Cepa</td>\n",
       "      <td>['restaurant', 'food', 'point_of_interest', 'e...</td>\n",
       "      <td>Praça dos Omaguás, 110 - Pinheiros, São Paulo ...</td>\n",
       "      <td>...</td>\n",
       "      <td>4.4</td>\n",
       "      <td>NaN</td>\n",
       "      <td>446.0</td>\n",
       "      <td>NaN</td>\n",
       "      <td>[{'long_name': '110', 'short_name': '110', 'ty...</td>\n",
       "      <td>[{'author_name': 'Andrés Suárez', 'author_url'...</td>\n",
       "      <td>brazil</td>\n",
       "      <td>pinheiros</td>\n",
       "      <td>restaurant</td>\n",
       "      <td>Cozinha de Mercado, Caseira</td>\n",
       "    </tr>\n",
       "    <tr>\n",
       "      <th>1</th>\n",
       "      <td>1</td>\n",
       "      <td>1</td>\n",
       "      <td>Lobozó Restaurante</td>\n",
       "      <td>NaN</td>\n",
       "      <td>https://www.google.com/maps/place/Loboz%C3%B3+...</td>\n",
       "      <td>NaN</td>\n",
       "      <td>ChIJF2U6OhtXzpQRecs2uAKRLVA</td>\n",
       "      <td>Lobozó Restaurante</td>\n",
       "      <td>['restaurant', 'food', 'point_of_interest', 'e...</td>\n",
       "      <td>R. Medeiros de Albuquerque, 436 - Vila Madalen...</td>\n",
       "      <td>...</td>\n",
       "      <td>4.4</td>\n",
       "      <td>http://www.lobozo.com.br/</td>\n",
       "      <td>530.0</td>\n",
       "      <td>2.0</td>\n",
       "      <td>[{'long_name': '436', 'short_name': '436', 'ty...</td>\n",
       "      <td>[{'author_name': 'Fifo', 'author_url': 'https:...</td>\n",
       "      <td>brazil</td>\n",
       "      <td>vila madalena</td>\n",
       "      <td>restaurant</td>\n",
       "      <td>Cozinha Caipira da Paulistânia</td>\n",
       "    </tr>\n",
       "    <tr>\n",
       "      <th>2</th>\n",
       "      <td>2</td>\n",
       "      <td>2</td>\n",
       "      <td>Plou Vinhos</td>\n",
       "      <td>NaN</td>\n",
       "      <td>https://www.google.com/maps/place/Plou+Vinhos/...</td>\n",
       "      <td>NaN</td>\n",
       "      <td>ChIJLfzNJQBXzpQRUBfTSw6zjkc</td>\n",
       "      <td>Plou Vinhos</td>\n",
       "      <td>['bar', 'point_of_interest', 'establishment']</td>\n",
       "      <td>R. Original, 141 - Sumarezinho, São Paulo - SP...</td>\n",
       "      <td>...</td>\n",
       "      <td>4.6</td>\n",
       "      <td>https://www.instagram.com/plou.vinhos</td>\n",
       "      <td>13.0</td>\n",
       "      <td>NaN</td>\n",
       "      <td>[{'long_name': '141', 'short_name': '141', 'ty...</td>\n",
       "      <td>[{'author_name': 'Rodolfo Arouca', 'author_url...</td>\n",
       "      <td>brazil</td>\n",
       "      <td>sumarezinho</td>\n",
       "      <td>bar</td>\n",
       "      <td>Bar de Vinhos, Petiscos</td>\n",
       "    </tr>\n",
       "    <tr>\n",
       "      <th>3</th>\n",
       "      <td>3</td>\n",
       "      <td>3</td>\n",
       "      <td>La Boutique del Tartufo</td>\n",
       "      <td>NaN</td>\n",
       "      <td>https://www.google.com/maps/place/La+Boutique+...</td>\n",
       "      <td>NaN</td>\n",
       "      <td>ChIJv94iow_HhkcRmH3x31zePbQ</td>\n",
       "      <td>La Boutique del Tartufo</td>\n",
       "      <td>['store', 'point_of_interest', 'establishment']</td>\n",
       "      <td>Via Lazzaro Spallanzani, 18, 20124 Milano MI, ...</td>\n",
       "      <td>...</td>\n",
       "      <td>4.9</td>\n",
       "      <td>http://laboutiquedeltartufo.it/</td>\n",
       "      <td>118.0</td>\n",
       "      <td>NaN</td>\n",
       "      <td>[{'long_name': '18', 'short_name': '18', 'type...</td>\n",
       "      <td>[{'author_name': 'Lea Hoong', 'author_url': 'h...</td>\n",
       "      <td>italy</td>\n",
       "      <td>20124 Milano MI</td>\n",
       "      <td>store</td>\n",
       "      <td>Italiana, Especializada em Trufas</td>\n",
       "    </tr>\n",
       "    <tr>\n",
       "      <th>4</th>\n",
       "      <td>5</td>\n",
       "      <td>5</td>\n",
       "      <td>Ristorante Nabucco</td>\n",
       "      <td>NaN</td>\n",
       "      <td>https://www.google.com/maps/place/Ristorante+N...</td>\n",
       "      <td>NaN</td>\n",
       "      <td>ChIJMewjV7PGhkcRuHD8CCWJHFk</td>\n",
       "      <td>Ristorante Nabucco</td>\n",
       "      <td>['restaurant', 'food', 'point_of_interest', 'e...</td>\n",
       "      <td>Via Fiori Chiari, 10, 20121 Milano MI, Italy</td>\n",
       "      <td>...</td>\n",
       "      <td>4.3</td>\n",
       "      <td>http://www.nabucco.it/</td>\n",
       "      <td>1704.0</td>\n",
       "      <td>3.0</td>\n",
       "      <td>[{'long_name': '10', 'short_name': '10', 'type...</td>\n",
       "      <td>[{'author_name': 'Kiana', 'author_url': 'https...</td>\n",
       "      <td>italy</td>\n",
       "      <td>20121 Milano MI</td>\n",
       "      <td>restaurant</td>\n",
       "      <td>Italiana, Tradicional</td>\n",
       "    </tr>\n",
       "  </tbody>\n",
       "</table>\n",
       "<p>5 rows × 21 columns</p>\n",
       "</div>"
      ],
      "text/plain": [
       "   Unnamed: 0.1  Unnamed: 0                   Título  Nota  \\\n",
       "0             0           0         Restaurante Cepa   NaN   \n",
       "1             1           1       Lobozó Restaurante   NaN   \n",
       "2             2           2              Plou Vinhos   NaN   \n",
       "3             3           3  La Boutique del Tartufo   NaN   \n",
       "4             5           5       Ristorante Nabucco   NaN   \n",
       "\n",
       "                                                 URL  Comentar  \\\n",
       "0  https://www.google.com/maps/place/Restaurante+...       NaN   \n",
       "1  https://www.google.com/maps/place/Loboz%C3%B3+...       NaN   \n",
       "2  https://www.google.com/maps/place/Plou+Vinhos/...       NaN   \n",
       "3  https://www.google.com/maps/place/La+Boutique+...       NaN   \n",
       "4  https://www.google.com/maps/place/Ristorante+N...       NaN   \n",
       "\n",
       "                            id                     name  \\\n",
       "0  ChIJ8zTHnSpfzpQR0BJjy4zmMkM         Restaurante Cepa   \n",
       "1  ChIJF2U6OhtXzpQRecs2uAKRLVA       Lobozó Restaurante   \n",
       "2  ChIJLfzNJQBXzpQRUBfTSw6zjkc              Plou Vinhos   \n",
       "3  ChIJv94iow_HhkcRmH3x31zePbQ  La Boutique del Tartufo   \n",
       "4  ChIJMewjV7PGhkcRuHD8CCWJHFk       Ristorante Nabucco   \n",
       "\n",
       "                                               types  \\\n",
       "0  ['restaurant', 'food', 'point_of_interest', 'e...   \n",
       "1  ['restaurant', 'food', 'point_of_interest', 'e...   \n",
       "2      ['bar', 'point_of_interest', 'establishment']   \n",
       "3    ['store', 'point_of_interest', 'establishment']   \n",
       "4  ['restaurant', 'food', 'point_of_interest', 'e...   \n",
       "\n",
       "                                   formatted_address  ... rating  \\\n",
       "0  Praça dos Omaguás, 110 - Pinheiros, São Paulo ...  ...    4.4   \n",
       "1  R. Medeiros de Albuquerque, 436 - Vila Madalen...  ...    4.4   \n",
       "2  R. Original, 141 - Sumarezinho, São Paulo - SP...  ...    4.6   \n",
       "3  Via Lazzaro Spallanzani, 18, 20124 Milano MI, ...  ...    4.9   \n",
       "4       Via Fiori Chiari, 10, 20121 Milano MI, Italy  ...    4.3   \n",
       "\n",
       "                                 website user_ratings_total  price_level  \\\n",
       "0                                    NaN              446.0          NaN   \n",
       "1              http://www.lobozo.com.br/              530.0          2.0   \n",
       "2  https://www.instagram.com/plou.vinhos               13.0          NaN   \n",
       "3        http://laboutiquedeltartufo.it/              118.0          NaN   \n",
       "4                 http://www.nabucco.it/             1704.0          3.0   \n",
       "\n",
       "                                  address_components  \\\n",
       "0  [{'long_name': '110', 'short_name': '110', 'ty...   \n",
       "1  [{'long_name': '436', 'short_name': '436', 'ty...   \n",
       "2  [{'long_name': '141', 'short_name': '141', 'ty...   \n",
       "3  [{'long_name': '18', 'short_name': '18', 'type...   \n",
       "4  [{'long_name': '10', 'short_name': '10', 'type...   \n",
       "\n",
       "                                             reviews    pais  \\\n",
       "0  [{'author_name': 'Andrés Suárez', 'author_url'...  brazil   \n",
       "1  [{'author_name': 'Fifo', 'author_url': 'https:...  brazil   \n",
       "2  [{'author_name': 'Rodolfo Arouca', 'author_url...  brazil   \n",
       "3  [{'author_name': 'Lea Hoong', 'author_url': 'h...   italy   \n",
       "4  [{'author_name': 'Kiana', 'author_url': 'https...   italy   \n",
       "\n",
       "             bairro estabelecimento                             comida  \n",
       "0         pinheiros      restaurant        Cozinha de Mercado, Caseira  \n",
       "1     vila madalena      restaurant     Cozinha Caipira da Paulistânia  \n",
       "2       sumarezinho             bar            Bar de Vinhos, Petiscos  \n",
       "3   20124 Milano MI           store  Italiana, Especializada em Trufas  \n",
       "4   20121 Milano MI      restaurant              Italiana, Tradicional  \n",
       "\n",
       "[5 rows x 21 columns]"
      ]
     },
     "execution_count": 20,
     "metadata": {},
     "output_type": "execute_result"
    }
   ],
   "source": [
    "df_completo.head()"
   ]
  },
  {
   "cell_type": "code",
   "execution_count": 23,
   "metadata": {},
   "outputs": [],
   "source": [
    "df_completo[\"F_Type\"] = df_completo[\"comida\"].str.split(\",\", expand=True)[0]"
   ]
  },
  {
   "cell_type": "code",
   "execution_count": 25,
   "metadata": {},
   "outputs": [],
   "source": [
    "\n",
    "to_graph_type = df_completo.groupby(\"F_Type\").count()[\"URL\"].reset_index().sort_values(\"URL\", ascending=False)"
   ]
  },
  {
   "cell_type": "code",
   "execution_count": 26,
   "metadata": {},
   "outputs": [],
   "source": [
    "import plotly.express as px"
   ]
  },
  {
   "cell_type": "code",
   "execution_count": 27,
   "metadata": {},
   "outputs": [
    {
     "data": {
      "application/vnd.plotly.v1+json": {
       "config": {
        "plotlyServerURL": "https://plot.ly"
       },
       "data": [
        {
         "alignmentgroup": "True",
         "hovertemplate": "F_Type=%{x}<br>URL=%{y}<extra></extra>",
         "legendgroup": "",
         "marker": {
          "color": "#636efa",
          "pattern": {
           "shape": ""
          }
         },
         "name": "",
         "offsetgroup": "",
         "orientation": "v",
         "showlegend": false,
         "textposition": "auto",
         "type": "bar",
         "x": [
          "Italiana",
          "Não se aplica (Supermercado)",
          "Bar",
          "Padaria",
          "Cozinha Caipira da Paulistânia",
          "Cozinha de Mercado",
          "Gelateria",
          "Internacional",
          "Confeitaria",
          "Japonesa",
          "Bar de Vinhos",
          "Não se aplica (Hotel)",
          "Não se aplica (Loja de Roupas)",
          "Não se aplica (Mercado de Flores)",
          "Não se aplica (Mercado)",
          "Não se aplica (Outlet de Roupas)",
          "Não se aplica (Papelaria)",
          "Não se aplica (Praça Pública)",
          "Café",
          "Não se aplica (Acomodação)"
         ],
         "xaxis": "x",
         "y": [
          15,
          5,
          3,
          2,
          1,
          1,
          1,
          1,
          1,
          1,
          1,
          1,
          1,
          1,
          1,
          1,
          1,
          1,
          1,
          1
         ],
         "yaxis": "y"
        }
       ],
       "layout": {
        "barmode": "relative",
        "legend": {
         "tracegroupgap": 0
        },
        "margin": {
         "t": 60
        },
        "template": {
         "data": {
          "bar": [
           {
            "error_x": {
             "color": "#2a3f5f"
            },
            "error_y": {
             "color": "#2a3f5f"
            },
            "marker": {
             "line": {
              "color": "#E5ECF6",
              "width": 0.5
             },
             "pattern": {
              "fillmode": "overlay",
              "size": 10,
              "solidity": 0.2
             }
            },
            "type": "bar"
           }
          ],
          "barpolar": [
           {
            "marker": {
             "line": {
              "color": "#E5ECF6",
              "width": 0.5
             },
             "pattern": {
              "fillmode": "overlay",
              "size": 10,
              "solidity": 0.2
             }
            },
            "type": "barpolar"
           }
          ],
          "carpet": [
           {
            "aaxis": {
             "endlinecolor": "#2a3f5f",
             "gridcolor": "white",
             "linecolor": "white",
             "minorgridcolor": "white",
             "startlinecolor": "#2a3f5f"
            },
            "baxis": {
             "endlinecolor": "#2a3f5f",
             "gridcolor": "white",
             "linecolor": "white",
             "minorgridcolor": "white",
             "startlinecolor": "#2a3f5f"
            },
            "type": "carpet"
           }
          ],
          "choropleth": [
           {
            "colorbar": {
             "outlinewidth": 0,
             "ticks": ""
            },
            "type": "choropleth"
           }
          ],
          "contour": [
           {
            "colorbar": {
             "outlinewidth": 0,
             "ticks": ""
            },
            "colorscale": [
             [
              0,
              "#0d0887"
             ],
             [
              0.1111111111111111,
              "#46039f"
             ],
             [
              0.2222222222222222,
              "#7201a8"
             ],
             [
              0.3333333333333333,
              "#9c179e"
             ],
             [
              0.4444444444444444,
              "#bd3786"
             ],
             [
              0.5555555555555556,
              "#d8576b"
             ],
             [
              0.6666666666666666,
              "#ed7953"
             ],
             [
              0.7777777777777778,
              "#fb9f3a"
             ],
             [
              0.8888888888888888,
              "#fdca26"
             ],
             [
              1,
              "#f0f921"
             ]
            ],
            "type": "contour"
           }
          ],
          "contourcarpet": [
           {
            "colorbar": {
             "outlinewidth": 0,
             "ticks": ""
            },
            "type": "contourcarpet"
           }
          ],
          "heatmap": [
           {
            "colorbar": {
             "outlinewidth": 0,
             "ticks": ""
            },
            "colorscale": [
             [
              0,
              "#0d0887"
             ],
             [
              0.1111111111111111,
              "#46039f"
             ],
             [
              0.2222222222222222,
              "#7201a8"
             ],
             [
              0.3333333333333333,
              "#9c179e"
             ],
             [
              0.4444444444444444,
              "#bd3786"
             ],
             [
              0.5555555555555556,
              "#d8576b"
             ],
             [
              0.6666666666666666,
              "#ed7953"
             ],
             [
              0.7777777777777778,
              "#fb9f3a"
             ],
             [
              0.8888888888888888,
              "#fdca26"
             ],
             [
              1,
              "#f0f921"
             ]
            ],
            "type": "heatmap"
           }
          ],
          "heatmapgl": [
           {
            "colorbar": {
             "outlinewidth": 0,
             "ticks": ""
            },
            "colorscale": [
             [
              0,
              "#0d0887"
             ],
             [
              0.1111111111111111,
              "#46039f"
             ],
             [
              0.2222222222222222,
              "#7201a8"
             ],
             [
              0.3333333333333333,
              "#9c179e"
             ],
             [
              0.4444444444444444,
              "#bd3786"
             ],
             [
              0.5555555555555556,
              "#d8576b"
             ],
             [
              0.6666666666666666,
              "#ed7953"
             ],
             [
              0.7777777777777778,
              "#fb9f3a"
             ],
             [
              0.8888888888888888,
              "#fdca26"
             ],
             [
              1,
              "#f0f921"
             ]
            ],
            "type": "heatmapgl"
           }
          ],
          "histogram": [
           {
            "marker": {
             "pattern": {
              "fillmode": "overlay",
              "size": 10,
              "solidity": 0.2
             }
            },
            "type": "histogram"
           }
          ],
          "histogram2d": [
           {
            "colorbar": {
             "outlinewidth": 0,
             "ticks": ""
            },
            "colorscale": [
             [
              0,
              "#0d0887"
             ],
             [
              0.1111111111111111,
              "#46039f"
             ],
             [
              0.2222222222222222,
              "#7201a8"
             ],
             [
              0.3333333333333333,
              "#9c179e"
             ],
             [
              0.4444444444444444,
              "#bd3786"
             ],
             [
              0.5555555555555556,
              "#d8576b"
             ],
             [
              0.6666666666666666,
              "#ed7953"
             ],
             [
              0.7777777777777778,
              "#fb9f3a"
             ],
             [
              0.8888888888888888,
              "#fdca26"
             ],
             [
              1,
              "#f0f921"
             ]
            ],
            "type": "histogram2d"
           }
          ],
          "histogram2dcontour": [
           {
            "colorbar": {
             "outlinewidth": 0,
             "ticks": ""
            },
            "colorscale": [
             [
              0,
              "#0d0887"
             ],
             [
              0.1111111111111111,
              "#46039f"
             ],
             [
              0.2222222222222222,
              "#7201a8"
             ],
             [
              0.3333333333333333,
              "#9c179e"
             ],
             [
              0.4444444444444444,
              "#bd3786"
             ],
             [
              0.5555555555555556,
              "#d8576b"
             ],
             [
              0.6666666666666666,
              "#ed7953"
             ],
             [
              0.7777777777777778,
              "#fb9f3a"
             ],
             [
              0.8888888888888888,
              "#fdca26"
             ],
             [
              1,
              "#f0f921"
             ]
            ],
            "type": "histogram2dcontour"
           }
          ],
          "mesh3d": [
           {
            "colorbar": {
             "outlinewidth": 0,
             "ticks": ""
            },
            "type": "mesh3d"
           }
          ],
          "parcoords": [
           {
            "line": {
             "colorbar": {
              "outlinewidth": 0,
              "ticks": ""
             }
            },
            "type": "parcoords"
           }
          ],
          "pie": [
           {
            "automargin": true,
            "type": "pie"
           }
          ],
          "scatter": [
           {
            "fillpattern": {
             "fillmode": "overlay",
             "size": 10,
             "solidity": 0.2
            },
            "type": "scatter"
           }
          ],
          "scatter3d": [
           {
            "line": {
             "colorbar": {
              "outlinewidth": 0,
              "ticks": ""
             }
            },
            "marker": {
             "colorbar": {
              "outlinewidth": 0,
              "ticks": ""
             }
            },
            "type": "scatter3d"
           }
          ],
          "scattercarpet": [
           {
            "marker": {
             "colorbar": {
              "outlinewidth": 0,
              "ticks": ""
             }
            },
            "type": "scattercarpet"
           }
          ],
          "scattergeo": [
           {
            "marker": {
             "colorbar": {
              "outlinewidth": 0,
              "ticks": ""
             }
            },
            "type": "scattergeo"
           }
          ],
          "scattergl": [
           {
            "marker": {
             "colorbar": {
              "outlinewidth": 0,
              "ticks": ""
             }
            },
            "type": "scattergl"
           }
          ],
          "scattermapbox": [
           {
            "marker": {
             "colorbar": {
              "outlinewidth": 0,
              "ticks": ""
             }
            },
            "type": "scattermapbox"
           }
          ],
          "scatterpolar": [
           {
            "marker": {
             "colorbar": {
              "outlinewidth": 0,
              "ticks": ""
             }
            },
            "type": "scatterpolar"
           }
          ],
          "scatterpolargl": [
           {
            "marker": {
             "colorbar": {
              "outlinewidth": 0,
              "ticks": ""
             }
            },
            "type": "scatterpolargl"
           }
          ],
          "scatterternary": [
           {
            "marker": {
             "colorbar": {
              "outlinewidth": 0,
              "ticks": ""
             }
            },
            "type": "scatterternary"
           }
          ],
          "surface": [
           {
            "colorbar": {
             "outlinewidth": 0,
             "ticks": ""
            },
            "colorscale": [
             [
              0,
              "#0d0887"
             ],
             [
              0.1111111111111111,
              "#46039f"
             ],
             [
              0.2222222222222222,
              "#7201a8"
             ],
             [
              0.3333333333333333,
              "#9c179e"
             ],
             [
              0.4444444444444444,
              "#bd3786"
             ],
             [
              0.5555555555555556,
              "#d8576b"
             ],
             [
              0.6666666666666666,
              "#ed7953"
             ],
             [
              0.7777777777777778,
              "#fb9f3a"
             ],
             [
              0.8888888888888888,
              "#fdca26"
             ],
             [
              1,
              "#f0f921"
             ]
            ],
            "type": "surface"
           }
          ],
          "table": [
           {
            "cells": {
             "fill": {
              "color": "#EBF0F8"
             },
             "line": {
              "color": "white"
             }
            },
            "header": {
             "fill": {
              "color": "#C8D4E3"
             },
             "line": {
              "color": "white"
             }
            },
            "type": "table"
           }
          ]
         },
         "layout": {
          "annotationdefaults": {
           "arrowcolor": "#2a3f5f",
           "arrowhead": 0,
           "arrowwidth": 1
          },
          "autotypenumbers": "strict",
          "coloraxis": {
           "colorbar": {
            "outlinewidth": 0,
            "ticks": ""
           }
          },
          "colorscale": {
           "diverging": [
            [
             0,
             "#8e0152"
            ],
            [
             0.1,
             "#c51b7d"
            ],
            [
             0.2,
             "#de77ae"
            ],
            [
             0.3,
             "#f1b6da"
            ],
            [
             0.4,
             "#fde0ef"
            ],
            [
             0.5,
             "#f7f7f7"
            ],
            [
             0.6,
             "#e6f5d0"
            ],
            [
             0.7,
             "#b8e186"
            ],
            [
             0.8,
             "#7fbc41"
            ],
            [
             0.9,
             "#4d9221"
            ],
            [
             1,
             "#276419"
            ]
           ],
           "sequential": [
            [
             0,
             "#0d0887"
            ],
            [
             0.1111111111111111,
             "#46039f"
            ],
            [
             0.2222222222222222,
             "#7201a8"
            ],
            [
             0.3333333333333333,
             "#9c179e"
            ],
            [
             0.4444444444444444,
             "#bd3786"
            ],
            [
             0.5555555555555556,
             "#d8576b"
            ],
            [
             0.6666666666666666,
             "#ed7953"
            ],
            [
             0.7777777777777778,
             "#fb9f3a"
            ],
            [
             0.8888888888888888,
             "#fdca26"
            ],
            [
             1,
             "#f0f921"
            ]
           ],
           "sequentialminus": [
            [
             0,
             "#0d0887"
            ],
            [
             0.1111111111111111,
             "#46039f"
            ],
            [
             0.2222222222222222,
             "#7201a8"
            ],
            [
             0.3333333333333333,
             "#9c179e"
            ],
            [
             0.4444444444444444,
             "#bd3786"
            ],
            [
             0.5555555555555556,
             "#d8576b"
            ],
            [
             0.6666666666666666,
             "#ed7953"
            ],
            [
             0.7777777777777778,
             "#fb9f3a"
            ],
            [
             0.8888888888888888,
             "#fdca26"
            ],
            [
             1,
             "#f0f921"
            ]
           ]
          },
          "colorway": [
           "#636efa",
           "#EF553B",
           "#00cc96",
           "#ab63fa",
           "#FFA15A",
           "#19d3f3",
           "#FF6692",
           "#B6E880",
           "#FF97FF",
           "#FECB52"
          ],
          "font": {
           "color": "#2a3f5f"
          },
          "geo": {
           "bgcolor": "white",
           "lakecolor": "white",
           "landcolor": "#E5ECF6",
           "showlakes": true,
           "showland": true,
           "subunitcolor": "white"
          },
          "hoverlabel": {
           "align": "left"
          },
          "hovermode": "closest",
          "mapbox": {
           "style": "light"
          },
          "paper_bgcolor": "white",
          "plot_bgcolor": "#E5ECF6",
          "polar": {
           "angularaxis": {
            "gridcolor": "white",
            "linecolor": "white",
            "ticks": ""
           },
           "bgcolor": "#E5ECF6",
           "radialaxis": {
            "gridcolor": "white",
            "linecolor": "white",
            "ticks": ""
           }
          },
          "scene": {
           "xaxis": {
            "backgroundcolor": "#E5ECF6",
            "gridcolor": "white",
            "gridwidth": 2,
            "linecolor": "white",
            "showbackground": true,
            "ticks": "",
            "zerolinecolor": "white"
           },
           "yaxis": {
            "backgroundcolor": "#E5ECF6",
            "gridcolor": "white",
            "gridwidth": 2,
            "linecolor": "white",
            "showbackground": true,
            "ticks": "",
            "zerolinecolor": "white"
           },
           "zaxis": {
            "backgroundcolor": "#E5ECF6",
            "gridcolor": "white",
            "gridwidth": 2,
            "linecolor": "white",
            "showbackground": true,
            "ticks": "",
            "zerolinecolor": "white"
           }
          },
          "shapedefaults": {
           "line": {
            "color": "#2a3f5f"
           }
          },
          "ternary": {
           "aaxis": {
            "gridcolor": "white",
            "linecolor": "white",
            "ticks": ""
           },
           "baxis": {
            "gridcolor": "white",
            "linecolor": "white",
            "ticks": ""
           },
           "bgcolor": "#E5ECF6",
           "caxis": {
            "gridcolor": "white",
            "linecolor": "white",
            "ticks": ""
           }
          },
          "title": {
           "x": 0.05
          },
          "xaxis": {
           "automargin": true,
           "gridcolor": "white",
           "linecolor": "white",
           "ticks": "",
           "title": {
            "standoff": 15
           },
           "zerolinecolor": "white",
           "zerolinewidth": 2
          },
          "yaxis": {
           "automargin": true,
           "gridcolor": "white",
           "linecolor": "white",
           "ticks": "",
           "title": {
            "standoff": 15
           },
           "zerolinecolor": "white",
           "zerolinewidth": 2
          }
         }
        },
        "xaxis": {
         "anchor": "y",
         "domain": [
          0,
          1
         ],
         "title": {
          "text": "F_Type"
         }
        },
        "yaxis": {
         "anchor": "x",
         "domain": [
          0,
          1
         ],
         "title": {
          "text": "URL"
         }
        }
       }
      }
     },
     "metadata": {},
     "output_type": "display_data"
    }
   ],
   "source": [
    "fig = px.bar(to_graph_type, x='F_Type', y='URL')\n",
    "fig.show()"
   ]
  }
 ],
 "metadata": {
  "kernelspec": {
   "display_name": "base",
   "language": "python",
   "name": "python3"
  },
  "language_info": {
   "codemirror_mode": {
    "name": "ipython",
    "version": 3
   },
   "file_extension": ".py",
   "mimetype": "text/x-python",
   "name": "python",
   "nbconvert_exporter": "python",
   "pygments_lexer": "ipython3",
   "version": "3.11.7"
  }
 },
 "nbformat": 4,
 "nbformat_minor": 2
}
